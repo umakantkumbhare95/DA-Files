{
 "cells": [
  {
   "cell_type": "code",
   "execution_count": 2,
   "id": "e8528fbf",
   "metadata": {},
   "outputs": [
    {
     "name": "stdout",
     "output_type": "stream",
     "text": [
      "55.0\n"
     ]
    }
   ],
   "source": [
    "u = int(10)\n",
    "v = u*(u+1)/2\n",
    "print(v)"
   ]
  },
  {
   "cell_type": "code",
   "execution_count": 3,
   "id": "c820d1eb",
   "metadata": {},
   "outputs": [
    {
     "name": "stdout",
     "output_type": "stream",
     "text": [
      "An apple a day, keeps the doctor away\n",
      "1\n"
     ]
    }
   ],
   "source": [
    "str = \"An apple a day, keeps the doctor away\"\n",
    "print(str)\n",
    "print(str.count(\"day\"))\n"
   ]
  },
  {
   "cell_type": "code",
   "execution_count": 178,
   "id": "dfda01b1",
   "metadata": {},
   "outputs": [
    {
     "name": "stdout",
     "output_type": "stream",
     "text": [
      "{'as': 2, 'long': 1, 'there': 1, 'is': 1, 'a': 1, 'waste': 1, 'on': 1, 'the': 2, 'roads': 2, 'atmosphere': 1, 'will': 1, 'keep': 1, 'getting': 1, 'harmful': 1}\n"
     ]
    }
   ],
   "source": [
    "str = \"As long as there is a waste on the roads, the atmosphere; will keep roads getting harmful.\"\n",
    "string2 = str.lower()\n",
    "uniquecharacters = \",.;:\"\n",
    "for y in uniquecharacters:\n",
    "    string2 = string2.replace(y, \"\")\n",
    "car = list(string2.split(\" \"))\n",
    "thisdict = {}\n",
    "for x in (car):\n",
    "    thisdict[x] = car.count(x)\n",
    "print(thisdict)"
   ]
  },
  {
   "cell_type": "code",
   "execution_count": 5,
   "id": "155de78c",
   "metadata": {},
   "outputs": [
    {
     "name": "stdout",
     "output_type": "stream",
     "text": [
      "el\n",
      "dh\n",
      "dhkpdh elatelat\n"
     ]
    }
   ],
   "source": [
    "u = \"elkpel\"\n",
    "v = \"dhatdhat\"\n",
    "a = u[0:2]\n",
    "b = v[0:2]\n",
    "print(a) \n",
    "print(b)\n",
    "u = (u.replace(a,b))\n",
    "v = (v.replace(b,a))\n",
    "z = u + \" \" + v\n",
    "print(z)\n"
   ]
  },
  {
   "cell_type": "code",
   "execution_count": 6,
   "id": "1f65c935",
   "metadata": {},
   "outputs": [
    {
     "name": "stdout",
     "output_type": "stream",
     "text": [
      "Input is: path\n",
      "yes\n",
      "pathing\n"
     ]
    }
   ],
   "source": [
    "var = \"path\"\n",
    "print(\"Input is: \" + var)\n",
    "if len(var) > 2:\n",
    "    print(\"yes\")\n",
    "    if var.endswith(\"ing\"):\n",
    "        output = var+\"ly\"\n",
    "        print(output)\n",
    "    else:\n",
    "        output = var+\"ing\"\n",
    "        print(output)\n",
    "else:\n",
    "    print(var)\n"
   ]
  },
  {
   "cell_type": "code",
   "execution_count": 7,
   "id": "a52d42bb",
   "metadata": {},
   "outputs": [
    {
     "name": "stdout",
     "output_type": "stream",
     "text": [
      "13\n",
      "34\n",
      "You may born poor, but you should good die poor.\n",
      "You may born good, but you should good die good.\n"
     ]
    }
   ],
   "source": [
    "str1 = \"You may born poor, but you should not die poor.\"\n",
    "x = str1.find(\"poor\")\n",
    "print(x)\n",
    "y = str1.find(\"not\")\n",
    "print(y)\n",
    "z = str1.replace(\"not\", \"good\")\n",
    "print(z)\n",
    "v = z.replace(\"poor\", \"good\")\n",
    "print(v)"
   ]
  },
  {
   "cell_type": "code",
   "execution_count": 29,
   "id": "4b0b4fc6",
   "metadata": {},
   "outputs": [
    {
     "name": "stdout",
     "output_type": "stream",
     "text": [
      "[1, 2, 3, 5, 6, 10, 15, 30]\n",
      "[1, 2, 4, 5, 8, 10, 20, 25, 40, 50, 100, 200]\n",
      "[1, 2, 5, 10]\n",
      "10\n"
     ]
    }
   ],
   "source": [
    "input1 = 30\n",
    "input2 = 200\n",
    "input3 = []\n",
    "input4 = []\n",
    "input5 = []\n",
    "for a in range(1, input1+1):\n",
    "    if input1%a == 0:\n",
    "        input3.append(a)\n",
    "print(input3)\n",
    "for a in range(1,input2+1):\n",
    "    if input2%a == 0:\n",
    "        input4.append(a)\n",
    "print(input4)\n",
    "for x in input3:\n",
    "    if x in input4:\n",
    "        input5.append(x)\n",
    "print(input5)\n",
    "print(input5[-1])"
   ]
  },
  {
   "cell_type": "code",
   "execution_count": 46,
   "id": "2da5514e",
   "metadata": {},
   "outputs": [
    {
     "name": "stdout",
     "output_type": "stream",
     "text": [
      "Yes, it is a nested list\n"
     ]
    }
   ],
   "source": [
    "list1 = [\"apple\",\"banana\",[\"grapes\",\"pineapple\"],\"chickoo\"]\n",
    "islist = False\n",
    "for x in list1:\n",
    "    if isinstance(x,list):\n",
    "        islist = True\n",
    "        break\n",
    "if islist:\n",
    "    print(\"Yes, it is a nested list\")\n",
    "else:\n",
    "    print(\"No\")"
   ]
  },
  {
   "cell_type": "code",
   "execution_count": 176,
   "id": "d1e3c7eb",
   "metadata": {},
   "outputs": [
    {
     "name": "stdout",
     "output_type": "stream",
     "text": [
      "38\n"
     ]
    }
   ],
   "source": [
    "list2 = [62,15,90,45,67,38,41]\n",
    "if len(list2) >= 2:\n",
    "    list2.sort()\n",
    "    print(list2[1])\n",
    "else:\n",
    "    print(\"length is shorter than 2\")"
   ]
  },
  {
   "cell_type": "code",
   "execution_count": 177,
   "id": "0da46c56",
   "metadata": {},
   "outputs": [
    {
     "name": "stdout",
     "output_type": "stream",
     "text": [
      "{78, 26, 99, 54}\n",
      "[78, 26, 99, 54]\n"
     ]
    }
   ],
   "source": [
    "list3 = [54,26,78,99,54]\n",
    "set1 = set()\n",
    "for x in list3:\n",
    "    set1.add(x)\n",
    "print(set1)\n",
    "list4 = []\n",
    "for x in set1:\n",
    "    list4.append(x)\n",
    "print(list4)"
   ]
  },
  {
   "cell_type": "code",
   "execution_count": 11,
   "id": "4c37e1a5",
   "metadata": {},
   "outputs": [
    {
     "name": "stdout",
     "output_type": "stream",
     "text": [
      "fruit\n",
      "apple\n",
      "color\n",
      "blue\n",
      "name\n",
      "Umakant\n",
      "{'fruit': 'apple', 'color': 'blue', 'name': 'Umakant'}\n"
     ]
    }
   ],
   "source": [
    "tuple1 = ([\"fruit\",\"apple\"],[\"color\",\"blue\"],[\"name\",\"Umakant\"])\n",
    "thisdict1 = {}\n",
    "for x in tuple1:\n",
    "    print(x[0])\n",
    "    print(x[1]) \n",
    "    thisdict1[x[0]] = x[1]\n",
    "print(thisdict1)\n",
    "    \n",
    "        \n"
   ]
  },
  {
   "cell_type": "code",
   "execution_count": 16,
   "id": "71785c2a",
   "metadata": {},
   "outputs": [
    {
     "name": "stdout",
     "output_type": "stream",
     "text": [
      "[('a', 2), ('b', 1), ('c', 4), ('d', 3)]\n",
      "[('a', 2), ('b', 1), ('c', 4), ('d', 3)]\n",
      "[('a', 2), ('b', 1), ('c', 4), ('d', 3)]\n",
      "[('a', 2), ('b', 1), ('c', 4), ('d', 3)]\n"
     ]
    }
   ],
   "source": [
    "dict2 = {'c': 4,\n",
    "         'a': 2,\n",
    "         'd': 3,\n",
    "         'b': 1}\n",
    "list5 = dict2.items()\n",
    "for x in list5:\n",
    "    print(sorted(list5))\n"
   ]
  },
  {
   "cell_type": "code",
   "execution_count": 21,
   "id": "686e0018",
   "metadata": {},
   "outputs": [
    {
     "name": "stdout",
     "output_type": "stream",
     "text": [
      "[(32, 'd'), (56, 'c'), (67, 'b'), (75, 'a')]\n"
     ]
    }
   ],
   "source": [
    "dict3 = {'c': 56,\n",
    "         'a': 75,\n",
    "         'd': 32,\n",
    "         'b': 67}\n",
    "sorteddict = sorted((key,value)\n",
    "for (value,key) in dict3.items())\n",
    "print(sorteddict)"
   ]
  },
  {
   "cell_type": "code",
   "execution_count": null,
   "id": "d8bf539d",
   "metadata": {},
   "outputs": [],
   "source": []
  }
 ],
 "metadata": {
  "kernelspec": {
   "display_name": "Python 3 (ipykernel)",
   "language": "python",
   "name": "python3"
  },
  "language_info": {
   "codemirror_mode": {
    "name": "ipython",
    "version": 3
   },
   "file_extension": ".py",
   "mimetype": "text/x-python",
   "name": "python",
   "nbconvert_exporter": "python",
   "pygments_lexer": "ipython3",
   "version": "3.9.12"
  }
 },
 "nbformat": 4,
 "nbformat_minor": 5
}
